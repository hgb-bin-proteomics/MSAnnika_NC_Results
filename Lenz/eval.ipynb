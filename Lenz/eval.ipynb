{
 "cells": [
  {
   "cell_type": "code",
   "execution_count": 1,
   "id": "c6eead13-a7bb-4ae8-940c-a6d444cfb7d5",
   "metadata": {},
   "outputs": [],
   "source": [
    "import pandas as pd"
   ]
  },
  {
   "cell_type": "code",
   "execution_count": 2,
   "id": "f421f6a5-6e9f-410b-af25-3aedf482e94d",
   "metadata": {},
   "outputs": [],
   "source": [
    "allowed_interactions_source = pd.read_excel(\"eval/41467_2021_23666_MOESM10_ESM.xlsx\", header = 1)"
   ]
  },
  {
   "cell_type": "code",
   "execution_count": 3,
   "id": "68a51260-1888-47fd-ad28-869760a9eef6",
   "metadata": {},
   "outputs": [],
   "source": [
    "def get_interactions(df):\n",
    "    interactions = dict()\n",
    "    for i, row in df.iterrows():\n",
    "        a = str(row[\"Protein1_UniProt_Accession\"]).strip()\n",
    "        b = str(row[\"Protein2_UniProt_Accession\"]).strip()\n",
    "        if a not in interactions:\n",
    "            interactions[a] = {b}\n",
    "        else:\n",
    "            interactions[a].add(b)\n",
    "        if b not in interactions:\n",
    "            interactions[b] = {a}\n",
    "        else:\n",
    "            interactions[b].add(a)\n",
    "    return interactions\n",
    "\n",
    "allowed_interactions = get_interactions(allowed_interactions_source)"
   ]
  },
  {
   "cell_type": "code",
   "execution_count": 4,
   "id": "a5ad4860-4f91-48a2-b838-fef69c532652",
   "metadata": {},
   "outputs": [],
   "source": [
    "def is_fp(accessions_a, accessions_b, interactions):\n",
    "    for p1 in accessions_a:\n",
    "        for p2 in accessions_b:\n",
    "            if p2 in interactions and p1 in interactions[p2]:\n",
    "                return False\n",
    "            if p1 in interactions and p2 in interactions[p1]:\n",
    "                return False\n",
    "    return True"
   ]
  },
  {
   "cell_type": "code",
   "execution_count": 5,
   "id": "9ee14ad3-6589-4732-bfb0-81e7bafd30c3",
   "metadata": {},
   "outputs": [],
   "source": [
    "def eval_result(result, allowed_interactions, accessions_a = \"Accession A\", accessions_b = \"Accession B\"):\n",
    "    interlinks = 0\n",
    "    intralinks = 0\n",
    "    fp = 0\n",
    "    for i, row in result.iterrows():\n",
    "        a = {x.strip() for x in str(row[accessions_a]).split(\";\")}\n",
    "        b = {x.strip() for x in str(row[accessions_b]).split(\";\")}\n",
    "        if len(a.intersection(b)) > 0:\n",
    "            intralinks += 1\n",
    "        else:\n",
    "            if is_fp(a, b, allowed_interactions):\n",
    "                fp += 1\n",
    "            interlinks += 1\n",
    "\n",
    "    print(f\"Crosslinks: {result.shape[0]}\")\n",
    "    print(f\"Intra + Inter: {intralinks + interlinks}\")\n",
    "    print(f\"Intralinks: {intralinks}\")\n",
    "    print(f\"Interlinks: {interlinks}\")\n",
    "    print(f\"Interlinks (true): {interlinks - fp}\")\n",
    "    print(f\"Interlinks (false): {fp}\")\n",
    "    print(f\"FDR: {fp / (result.shape[0] - fp)}\")\n",
    "    print(f\"FDR (inter): {fp / (interlinks - fp)}\")"
   ]
  },
  {
   "cell_type": "code",
   "execution_count": 6,
   "id": "55e31f7b-a79f-442a-9b27-8ae7c14a8c7d",
   "metadata": {},
   "outputs": [
    {
     "name": "stdout",
     "output_type": "stream",
     "text": [
      "Crosslinks: 5134\n",
      "Intra + Inter: 5134\n",
      "Intralinks: 3903\n",
      "Interlinks: 1231\n",
      "Interlinks (true): 1194\n",
      "Interlinks (false): 37\n",
      "FDR: 0.007259172061997253\n",
      "FDR (inter): 0.03098827470686767\n"
     ]
    }
   ],
   "source": [
    "annika_xl = pd.read_excel(\"MS_Annika/Results/top2_with_mono_Crosslinks_1%_nodecoy.xlsx\")\n",
    "eval_result(annika_xl, allowed_interactions)"
   ]
  },
  {
   "cell_type": "code",
   "execution_count": 7,
   "id": "9afa9256-34a7-4dd1-aa07-87b558a0b9f4",
   "metadata": {},
   "outputs": [],
   "source": [
    "from xiFDRToAnnikaResultConverter import create_annika_result"
   ]
  },
  {
   "cell_type": "code",
   "execution_count": 8,
   "id": "1034e2a6-44ed-454d-9dc6-958469c7ecaf",
   "metadata": {},
   "outputs": [
    {
     "name": "stdout",
     "output_type": "stream",
     "text": [
      "read 6594 crosslinks from file.\n",
      "read 6519 crosslinks from file.\n",
      "read 6375 crosslinks from file.\n"
     ]
    }
   ],
   "source": [
    "annika_xifdr_xl1 = create_annika_result(\"MS_Annika_+_xiFDR/Results/1%_xl_boost_all/boost_all_Links_xiFDR2.2.1.csv\")\n",
    "annika_xifdr_xl2 = create_annika_result(\"MS_Annika_+_xiFDR/Results/1%_xl_boost_between/boost_between_Links_xiFDR2.2.1.csv\")\n",
    "annika_xifdr_xl3 = create_annika_result(\"MS_Annika_+_xiFDR/Results/1%_xl_boost_none/boost_none_Links_xiFDR2.2.1.csv\")"
   ]
  },
  {
   "cell_type": "code",
   "execution_count": 9,
   "id": "50288985-086a-4c16-85f6-46de888ee1f1",
   "metadata": {},
   "outputs": [
    {
     "name": "stdout",
     "output_type": "stream",
     "text": [
      "Crosslinks: 6594\n",
      "Intra + Inter: 6594\n",
      "Intralinks: 5878\n",
      "Interlinks: 716\n",
      "Interlinks (true): 713\n",
      "Interlinks (false): 3\n",
      "FDR: 0.0004551661356395084\n",
      "FDR (inter): 0.004207573632538569\n"
     ]
    }
   ],
   "source": [
    "eval_result(annika_xifdr_xl1, allowed_interactions)"
   ]
  },
  {
   "cell_type": "code",
   "execution_count": 10,
   "id": "b8d36ba2-d563-407a-9ad5-ad77802589d3",
   "metadata": {},
   "outputs": [
    {
     "name": "stdout",
     "output_type": "stream",
     "text": [
      "Crosslinks: 6519\n",
      "Intra + Inter: 6519\n",
      "Intralinks: 5749\n",
      "Interlinks: 770\n",
      "Interlinks (true): 767\n",
      "Interlinks (false): 3\n",
      "FDR: 0.00046040515653775324\n",
      "FDR (inter): 0.003911342894393742\n"
     ]
    }
   ],
   "source": [
    "eval_result(annika_xifdr_xl2, allowed_interactions)"
   ]
  },
  {
   "cell_type": "code",
   "execution_count": 11,
   "id": "504a581e-6b60-49d0-b9f3-4d1eb73e87a5",
   "metadata": {},
   "outputs": [
    {
     "name": "stdout",
     "output_type": "stream",
     "text": [
      "Crosslinks: 6375\n",
      "Intra + Inter: 6375\n",
      "Intralinks: 5878\n",
      "Interlinks: 497\n",
      "Interlinks (true): 494\n",
      "Interlinks (false): 3\n",
      "FDR: 0.00047080979284369113\n",
      "FDR (inter): 0.006072874493927126\n"
     ]
    }
   ],
   "source": [
    "eval_result(annika_xifdr_xl3, allowed_interactions)"
   ]
  },
  {
   "cell_type": "code",
   "execution_count": 12,
   "id": "748c51a9-8475-4fbb-ae21-998f64afbf78",
   "metadata": {},
   "outputs": [
    {
     "name": "stdout",
     "output_type": "stream",
     "text": [
      "read 7697 crosslinks from file.\n",
      "read 6904 crosslinks from file.\n",
      "read 7589 crosslinks from file.\n"
     ]
    }
   ],
   "source": [
    "xifdr_xl1 = create_annika_result(\"xiSearch_+_xiFDR/Results/1%_xl_boost_all/boost_all_Links_xiFDR2.2.1.csv\")\n",
    "xifdr_xl2 = create_annika_result(\"xiSearch_+_xiFDR/Results/1%_xl_boost_between/boost_between_Links_xiFDR2.2.1.csv\")\n",
    "xifdr_xl3 = create_annika_result(\"xiSearch_+_xiFDR/Results/1%_xl_boost_none/boost_none_Links_xiFDR2.2.1.csv\")"
   ]
  },
  {
   "cell_type": "code",
   "execution_count": 13,
   "id": "5dee66a9-e765-4180-8486-d5fc74f1c218",
   "metadata": {},
   "outputs": [
    {
     "name": "stdout",
     "output_type": "stream",
     "text": [
      "Crosslinks: 7697\n",
      "Intra + Inter: 7697\n",
      "Intralinks: 7663\n",
      "Interlinks: 34\n",
      "Interlinks (true): 34\n",
      "Interlinks (false): 0\n",
      "FDR: 0.0\n",
      "FDR (inter): 0.0\n"
     ]
    }
   ],
   "source": [
    "eval_result(xifdr_xl1, allowed_interactions)"
   ]
  },
  {
   "cell_type": "code",
   "execution_count": 14,
   "id": "393f43a6-75e8-4cac-a449-c9342c232c95",
   "metadata": {},
   "outputs": [
    {
     "name": "stdout",
     "output_type": "stream",
     "text": [
      "Crosslinks: 6904\n",
      "Intra + Inter: 6904\n",
      "Intralinks: 5082\n",
      "Interlinks: 1822\n",
      "Interlinks (true): 1795\n",
      "Interlinks (false): 27\n",
      "FDR: 0.003926130580194852\n",
      "FDR (inter): 0.015041782729805013\n"
     ]
    }
   ],
   "source": [
    "eval_result(xifdr_xl2, allowed_interactions)"
   ]
  },
  {
   "cell_type": "code",
   "execution_count": 15,
   "id": "6c41aa5b-d5ea-4ec8-9808-2f5ba99b7cc2",
   "metadata": {},
   "outputs": [
    {
     "name": "stdout",
     "output_type": "stream",
     "text": [
      "Crosslinks: 7589\n",
      "Intra + Inter: 7589\n",
      "Intralinks: 7555\n",
      "Interlinks: 34\n",
      "Interlinks (true): 34\n",
      "Interlinks (false): 0\n",
      "FDR: 0.0\n",
      "FDR (inter): 0.0\n"
     ]
    }
   ],
   "source": [
    "eval_result(xifdr_xl3, allowed_interactions)"
   ]
  },
  {
   "cell_type": "code",
   "execution_count": null,
   "id": "a492bfd2-fb1b-4926-af98-6b9bdd9c506f",
   "metadata": {},
   "outputs": [],
   "source": []
  }
 ],
 "metadata": {
  "kernelspec": {
   "display_name": "Python 3 (ipykernel)",
   "language": "python",
   "name": "python3"
  },
  "language_info": {
   "codemirror_mode": {
    "name": "ipython",
    "version": 3
   },
   "file_extension": ".py",
   "mimetype": "text/x-python",
   "name": "python",
   "nbconvert_exporter": "python",
   "pygments_lexer": "ipython3",
   "version": "3.11.7"
  }
 },
 "nbformat": 4,
 "nbformat_minor": 5
}
