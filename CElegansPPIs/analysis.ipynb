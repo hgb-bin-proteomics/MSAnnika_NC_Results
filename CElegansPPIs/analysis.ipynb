{
 "cells": [
  {
   "cell_type": "code",
   "execution_count": 1,
   "id": "0c816fc1-8127-478d-88ce-4ee0af0935c1",
   "metadata": {},
   "outputs": [],
   "source": [
    "import pandas as pd"
   ]
  },
  {
   "cell_type": "markdown",
   "id": "07b50866-0a79-47bd-a3e6-321f566e400a",
   "metadata": {},
   "source": [
    "## Crosslinks"
   ]
  },
  {
   "cell_type": "code",
   "execution_count": 2,
   "id": "3fa911ef-b03c-48f1-a88c-178c98cb7de3",
   "metadata": {},
   "outputs": [],
   "source": [
    "s1_links = pd.read_csv(\"S1_FP_RP/1perc_residue_Links_xiFDR2.2.1.csv\")\n",
    "s1_links = s1_links[(s1_links[\"Decoy1\"] == False) & (s1_links[\"Decoy2\"] == False)]\n",
    "s2_links = pd.read_csv(\"S2_FP_RP/1perc_residue_Links_xiFDR2.2.1.csv\")\n",
    "s2_links = s2_links[(s2_links[\"Decoy1\"] == False) & (s2_links[\"Decoy2\"] == False)]\n",
    "s3_links = pd.read_csv(\"S3_FP_RP/1perc_residue_Links_xiFDR2.2.1.csv\")\n",
    "s3_links = s3_links[(s3_links[\"Decoy1\"] == False) & (s3_links[\"Decoy2\"] == False)] "
   ]
  },
  {
   "cell_type": "code",
   "execution_count": 3,
   "id": "54f6392c-cbd7-400e-9835-5ff6bdc63ec6",
   "metadata": {},
   "outputs": [
    {
     "data": {
      "text/plain": [
       "fdrGroup\n",
       "Self       158\n",
       "Between     47\n",
       "Name: count, dtype: int64"
      ]
     },
     "execution_count": 3,
     "metadata": {},
     "output_type": "execute_result"
    }
   ],
   "source": [
    "s1_links[\"fdrGroup\"].value_counts()"
   ]
  },
  {
   "cell_type": "code",
   "execution_count": 4,
   "id": "7ac3e2d2-29ef-45b2-b2e5-ef14ad72f56a",
   "metadata": {},
   "outputs": [
    {
     "data": {
      "text/plain": [
       "fdrGroup\n",
       "Self       255\n",
       "Between     46\n",
       "Name: count, dtype: int64"
      ]
     },
     "execution_count": 4,
     "metadata": {},
     "output_type": "execute_result"
    }
   ],
   "source": [
    "s2_links[\"fdrGroup\"].value_counts()"
   ]
  },
  {
   "cell_type": "code",
   "execution_count": 5,
   "id": "dfaeb28a-dee9-4395-9c64-2e640efac2b2",
   "metadata": {},
   "outputs": [
    {
     "data": {
      "text/plain": [
       "fdrGroup\n",
       "Self       176\n",
       "Between     34\n",
       "Name: count, dtype: int64"
      ]
     },
     "execution_count": 5,
     "metadata": {},
     "output_type": "execute_result"
    }
   ],
   "source": [
    "s3_links[\"fdrGroup\"].value_counts()"
   ]
  },
  {
   "cell_type": "code",
   "execution_count": 6,
   "id": "00cfd7da-cbe3-4938-bfd2-bc85ca49cdd0",
   "metadata": {},
   "outputs": [],
   "source": [
    "def get_crosslink_types(xls, df):\n",
    "    for i, row in df.iterrows():\n",
    "        current_xl = \"--\".join(sorted([str(row[\"Protein1\"]).strip() + \"_\" + str(row[\"fromSite\"]).strip(), str(row[\"Protein2\"]).strip() + \"_\" + str(row[\"ToSite\"]).strip()]))\n",
    "        if current_xl not in xls:\n",
    "            xls[current_xl] = row[\"fdrGroup\"]\n",
    "    return"
   ]
  },
  {
   "cell_type": "code",
   "execution_count": 7,
   "id": "176c4786-174b-4f3c-a4a8-668996604b06",
   "metadata": {},
   "outputs": [
    {
     "data": {
      "text/plain": [
       "435"
      ]
     },
     "execution_count": 7,
     "metadata": {},
     "output_type": "execute_result"
    }
   ],
   "source": [
    "xls = dict()\n",
    "get_crosslink_types(xls, s1_links)\n",
    "get_crosslink_types(xls, s2_links)\n",
    "get_crosslink_types(xls, s3_links)\n",
    "len(xls)"
   ]
  },
  {
   "cell_type": "code",
   "execution_count": 8,
   "id": "6b4ac7c8-cfbc-4994-8606-8a8d0141920f",
   "metadata": {},
   "outputs": [
    {
     "name": "stdout",
     "output_type": "stream",
     "text": [
      "Nr of intra links: 354\n",
      "Nr of inter links: 81\n"
     ]
    }
   ],
   "source": [
    "nr_intra = 0\n",
    "nr_inter = 0\n",
    "for xl in xls:\n",
    "    if \"Self\" in xls[xl]:\n",
    "        nr_intra+=1\n",
    "    if \"Between\" in xls[xl]:\n",
    "        nr_inter+=1\n",
    "print(f\"Nr of intra links: {nr_intra}\\nNr of inter links: {nr_inter}\")"
   ]
  },
  {
   "cell_type": "markdown",
   "id": "453f48ed-1009-44be-84f8-a62302e78f66",
   "metadata": {},
   "source": [
    "## Export all XLs"
   ]
  },
  {
   "cell_type": "code",
   "execution_count": 9,
   "id": "61cfcd9a-335d-4983-bd47-e6ac47eb91cc",
   "metadata": {},
   "outputs": [],
   "source": [
    "def get_peptide1(row):\n",
    "    psmid = str(row[\"PSMIDs\"]).split(\";\")[0]\n",
    "    p1 = psmid.split(\"P1_\")[1].split(\" \")[0]\n",
    "    if \".\" in p1:\n",
    "        p1 = p1.split(\".\")[1]\n",
    "    seq = \"\"\n",
    "    for aa in p1:\n",
    "        if aa.isupper():\n",
    "            seq += aa\n",
    "    if len(seq) == 0:\n",
    "        raise RuntimeError(\"Couldn't parse peptide sequence!\")\n",
    "    return seq\n",
    "\n",
    "def get_peptide2(row):\n",
    "    psmid = str(row[\"PSMIDs\"]).split(\";\")[0]\n",
    "    p2 = psmid.split(\"P2_\")[1].split(\" \")[0]\n",
    "    if \".\" in p2:\n",
    "        p2 = p2.split(\".\")[1]\n",
    "    seq = \"\"\n",
    "    for aa in p2:\n",
    "        if aa.isupper():\n",
    "            seq += aa\n",
    "    if len(seq) == 0:\n",
    "        raise RuntimeError(\"Couldn't parse peptide sequence!\")\n",
    "    return seq"
   ]
  },
  {
   "cell_type": "code",
   "execution_count": 10,
   "id": "ae3dad2c-183c-4d7a-8884-67042a62aafa",
   "metadata": {},
   "outputs": [],
   "source": [
    "def get_positions(row):\n",
    "    psmid = str(row[\"PSMIDs\"]).split(\";\")[0]\n",
    "    pos1 = psmid.split(\"P2_\")[1].split(\" \")[1]\n",
    "    pos2 = psmid.split(\"P2_\")[1].split(\" \")[2]\n",
    "    return [int(pos1), int(pos2)]"
   ]
  },
  {
   "cell_type": "code",
   "execution_count": 11,
   "id": "c7377fc3-e5ab-4aa2-963c-39ef7ba78f8d",
   "metadata": {},
   "outputs": [],
   "source": [
    "def get_crosslinks(xls, df):\n",
    "    for i, row in df.iterrows():\n",
    "        current_xl = \"--\".join(sorted([str(row[\"Protein1\"]).strip() + \"_\" + str(row[\"fromSite\"]).strip(), str(row[\"Protein2\"]).strip() + \"_\" + str(row[\"ToSite\"]).strip()]))\n",
    "        if current_xl not in xls:\n",
    "            pos1, pos2 = get_positions(row)\n",
    "            xls[current_xl] = {\"Peptide 1\": get_peptide1(row), \"Peptide 1 XL Pos\": pos1, \"Protein 1\": row[\"Protein1\"], \"Protein 1 XL Pos\": row[\"fromSite\"],\n",
    "                               \"Peptide 2\": get_peptide2(row), \"Peptide 2 XL Pos\": pos2, \"Protein 2\": row[\"Protein2\"], \"Protein 2 XL Pos\": row[\"ToSite\"]}\n",
    "    return"
   ]
  },
  {
   "cell_type": "code",
   "execution_count": 12,
   "id": "0dc642dd-bb7f-4526-b940-3bd895f61a2d",
   "metadata": {},
   "outputs": [
    {
     "data": {
      "text/plain": [
       "435"
      ]
     },
     "execution_count": 12,
     "metadata": {},
     "output_type": "execute_result"
    }
   ],
   "source": [
    "export = dict()\n",
    "get_crosslinks(export, s1_links)\n",
    "get_crosslinks(export, s2_links)\n",
    "get_crosslinks(export, s3_links)\n",
    "len(export)"
   ]
  },
  {
   "cell_type": "code",
   "execution_count": 13,
   "id": "723e4580-8ab5-455b-96fd-fb38b804e0b6",
   "metadata": {},
   "outputs": [],
   "source": [
    "export_dict = {\"Peptide 1\": [], \"Peptide 1 XL Pos\": [], \"Protein 1\": [], \"Protein 1 XL Pos\": [],\n",
    "               \"Peptide 2\": [], \"Peptide 2 XL Pos\": [], \"Protein 2\": [], \"Protein 2 XL Pos\": []}\n",
    "for xl in export:\n",
    "    export_dict[\"Peptide 1\"].append(export[xl][\"Peptide 1\"])\n",
    "    export_dict[\"Peptide 1 XL Pos\"].append(export[xl][\"Peptide 1 XL Pos\"])\n",
    "    export_dict[\"Protein 1\"].append(export[xl][\"Protein 1\"])\n",
    "    export_dict[\"Protein 1 XL Pos\"].append(export[xl][\"Protein 1 XL Pos\"])\n",
    "    export_dict[\"Peptide 2\"].append(export[xl][\"Peptide 2\"])\n",
    "    export_dict[\"Peptide 2 XL Pos\"].append(export[xl][\"Peptide 2 XL Pos\"])\n",
    "    export_dict[\"Protein 2\"].append(export[xl][\"Protein 2\"])\n",
    "    export_dict[\"Protein 2 XL Pos\"].append(export[xl][\"Protein 2 XL Pos\"])"
   ]
  },
  {
   "cell_type": "code",
   "execution_count": 14,
   "id": "34c5f270-7f5b-48ce-8567-709861d460d0",
   "metadata": {},
   "outputs": [
    {
     "data": {
      "text/plain": [
       "(435, 8)"
      ]
     },
     "execution_count": 14,
     "metadata": {},
     "output_type": "execute_result"
    }
   ],
   "source": [
    "export_df = pd.DataFrame(export_dict)\n",
    "export_df.shape"
   ]
  },
  {
   "cell_type": "code",
   "execution_count": 15,
   "id": "bc6e4159-6835-484d-b781-48e01907d073",
   "metadata": {},
   "outputs": [
    {
     "data": {
      "text/html": [
       "<div>\n",
       "<style scoped>\n",
       "    .dataframe tbody tr th:only-of-type {\n",
       "        vertical-align: middle;\n",
       "    }\n",
       "\n",
       "    .dataframe tbody tr th {\n",
       "        vertical-align: top;\n",
       "    }\n",
       "\n",
       "    .dataframe thead th {\n",
       "        text-align: right;\n",
       "    }\n",
       "</style>\n",
       "<table border=\"1\" class=\"dataframe\">\n",
       "  <thead>\n",
       "    <tr style=\"text-align: right;\">\n",
       "      <th></th>\n",
       "      <th>Peptide 1</th>\n",
       "      <th>Peptide 1 XL Pos</th>\n",
       "      <th>Protein 1</th>\n",
       "      <th>Protein 1 XL Pos</th>\n",
       "      <th>Peptide 2</th>\n",
       "      <th>Peptide 2 XL Pos</th>\n",
       "      <th>Protein 2</th>\n",
       "      <th>Protein 2 XL Pos</th>\n",
       "    </tr>\n",
       "  </thead>\n",
       "  <tbody>\n",
       "    <tr>\n",
       "      <th>0</th>\n",
       "      <td>SSNRFLKDAGSGVENASK</td>\n",
       "      <td>7</td>\n",
       "      <td>Q19057</td>\n",
       "      <td>577</td>\n",
       "      <td>SSNRFLKDAGSGVENASK</td>\n",
       "      <td>7</td>\n",
       "      <td>Q19057</td>\n",
       "      <td>577</td>\n",
       "    </tr>\n",
       "    <tr>\n",
       "      <th>1</th>\n",
       "      <td>KPVPEWCDEAVKPSEK</td>\n",
       "      <td>1</td>\n",
       "      <td>O76840</td>\n",
       "      <td>678</td>\n",
       "      <td>KPVPEWCDEAVKPSEK</td>\n",
       "      <td>1</td>\n",
       "      <td>O76840</td>\n",
       "      <td>678</td>\n",
       "    </tr>\n",
       "    <tr>\n",
       "      <th>2</th>\n",
       "      <td>TIAECLADELINAAKGSSNSYAIK</td>\n",
       "      <td>15</td>\n",
       "      <td>P52821</td>\n",
       "      <td>62</td>\n",
       "      <td>EVITYKLITPSVVSERLK</td>\n",
       "      <td>6</td>\n",
       "      <td>P49041</td>\n",
       "      <td>188</td>\n",
       "    </tr>\n",
       "    <tr>\n",
       "      <th>3</th>\n",
       "      <td>NLRAYEGVPAKYQK</td>\n",
       "      <td>11</td>\n",
       "      <td>Q27389</td>\n",
       "      <td>33</td>\n",
       "      <td>LLQGDKVVVLR</td>\n",
       "      <td>6</td>\n",
       "      <td>Q27389</td>\n",
       "      <td>112</td>\n",
       "    </tr>\n",
       "    <tr>\n",
       "      <th>4</th>\n",
       "      <td>RYVNVASGPGKK</td>\n",
       "      <td>11</td>\n",
       "      <td>Q20228</td>\n",
       "      <td>29</td>\n",
       "      <td>ERLDQELKLIGTFGLK</td>\n",
       "      <td>8</td>\n",
       "      <td>Q18231</td>\n",
       "      <td>122</td>\n",
       "    </tr>\n",
       "    <tr>\n",
       "      <th>...</th>\n",
       "      <td>...</td>\n",
       "      <td>...</td>\n",
       "      <td>...</td>\n",
       "      <td>...</td>\n",
       "      <td>...</td>\n",
       "      <td>...</td>\n",
       "      <td>...</td>\n",
       "      <td>...</td>\n",
       "    </tr>\n",
       "    <tr>\n",
       "      <th>430</th>\n",
       "      <td>VFFKAGVLAHLEDIRDEK</td>\n",
       "      <td>4</td>\n",
       "      <td>P02566</td>\n",
       "      <td>775</td>\n",
       "      <td>KGFPNR</td>\n",
       "      <td>1</td>\n",
       "      <td>Q21000;O62244;P12844;P02567;P02566;P12845</td>\n",
       "      <td>715;709;719;712;714;720</td>\n",
       "    </tr>\n",
       "    <tr>\n",
       "      <th>431</th>\n",
       "      <td>RIAKHR</td>\n",
       "      <td>4</td>\n",
       "      <td>Q23494</td>\n",
       "      <td>379</td>\n",
       "      <td>LRDTYKNHPEVR</td>\n",
       "      <td>6</td>\n",
       "      <td>Q23494</td>\n",
       "      <td>389</td>\n",
       "    </tr>\n",
       "    <tr>\n",
       "      <th>432</th>\n",
       "      <td>YLAEVASEDRAAVVEKSQK</td>\n",
       "      <td>16</td>\n",
       "      <td>P41932;N1NV25</td>\n",
       "      <td>145;23</td>\n",
       "      <td>MKGDYYR</td>\n",
       "      <td>1</td>\n",
       "      <td>N1NV25</td>\n",
       "      <td>1</td>\n",
       "    </tr>\n",
       "    <tr>\n",
       "      <th>433</th>\n",
       "      <td>GSAVEREISGQYAADKK</td>\n",
       "      <td>16</td>\n",
       "      <td>Q95XS1</td>\n",
       "      <td>103</td>\n",
       "      <td>GSAVEREISGQYAADKK</td>\n",
       "      <td>16</td>\n",
       "      <td>Q95XS1</td>\n",
       "      <td>103</td>\n",
       "    </tr>\n",
       "    <tr>\n",
       "      <th>434</th>\n",
       "      <td>VREDRSTWKANYFTK</td>\n",
       "      <td>9</td>\n",
       "      <td>Q93572</td>\n",
       "      <td>10</td>\n",
       "      <td>KALRGHLGK</td>\n",
       "      <td>1</td>\n",
       "      <td>Q93572</td>\n",
       "      <td>63</td>\n",
       "    </tr>\n",
       "  </tbody>\n",
       "</table>\n",
       "<p>435 rows × 8 columns</p>\n",
       "</div>"
      ],
      "text/plain": [
       "                    Peptide 1  Peptide 1 XL Pos      Protein 1  \\\n",
       "0          SSNRFLKDAGSGVENASK                 7         Q19057   \n",
       "1            KPVPEWCDEAVKPSEK                 1         O76840   \n",
       "2    TIAECLADELINAAKGSSNSYAIK                15         P52821   \n",
       "3              NLRAYEGVPAKYQK                11         Q27389   \n",
       "4                RYVNVASGPGKK                11         Q20228   \n",
       "..                        ...               ...            ...   \n",
       "430        VFFKAGVLAHLEDIRDEK                 4         P02566   \n",
       "431                    RIAKHR                 4         Q23494   \n",
       "432       YLAEVASEDRAAVVEKSQK                16  P41932;N1NV25   \n",
       "433         GSAVEREISGQYAADKK                16         Q95XS1   \n",
       "434           VREDRSTWKANYFTK                 9         Q93572   \n",
       "\n",
       "    Protein 1 XL Pos           Peptide 2  Peptide 2 XL Pos  \\\n",
       "0                577  SSNRFLKDAGSGVENASK                 7   \n",
       "1                678    KPVPEWCDEAVKPSEK                 1   \n",
       "2                 62  EVITYKLITPSVVSERLK                 6   \n",
       "3                 33         LLQGDKVVVLR                 6   \n",
       "4                 29    ERLDQELKLIGTFGLK                 8   \n",
       "..               ...                 ...               ...   \n",
       "430              775              KGFPNR                 1   \n",
       "431              379        LRDTYKNHPEVR                 6   \n",
       "432           145;23             MKGDYYR                 1   \n",
       "433              103   GSAVEREISGQYAADKK                16   \n",
       "434               10           KALRGHLGK                 1   \n",
       "\n",
       "                                     Protein 2         Protein 2 XL Pos  \n",
       "0                                       Q19057                      577  \n",
       "1                                       O76840                      678  \n",
       "2                                       P49041                      188  \n",
       "3                                       Q27389                      112  \n",
       "4                                       Q18231                      122  \n",
       "..                                         ...                      ...  \n",
       "430  Q21000;O62244;P12844;P02567;P02566;P12845  715;709;719;712;714;720  \n",
       "431                                     Q23494                      389  \n",
       "432                                     N1NV25                        1  \n",
       "433                                     Q95XS1                      103  \n",
       "434                                     Q93572                       63  \n",
       "\n",
       "[435 rows x 8 columns]"
      ]
     },
     "execution_count": 15,
     "metadata": {},
     "output_type": "execute_result"
    }
   ],
   "source": [
    "export_df"
   ]
  },
  {
   "cell_type": "code",
   "execution_count": 16,
   "id": "ff50b1df-27bc-482a-84f3-d1049f54a0d3",
   "metadata": {},
   "outputs": [],
   "source": [
    "# export_df.to_excel(\"high-confidence_crosslinks_all_replicates.xlsx\", index = False)"
   ]
  },
  {
   "cell_type": "markdown",
   "id": "f5f5d701-65b5-4820-b900-e6dcd65029ae",
   "metadata": {},
   "source": [
    "## PPIs"
   ]
  },
  {
   "cell_type": "code",
   "execution_count": 17,
   "id": "c761131a-f369-460b-bb4c-f4bc9897a141",
   "metadata": {},
   "outputs": [],
   "source": [
    "s1_ppi = pd.read_csv(\"S1_FP_PPI_inter/1perc_ppi_inter_ppi_xiFDR2.2.1.csv\")\n",
    "s1_ppi = s1_ppi[(s1_ppi[\"isDecoy1\"] == False) & (s1_ppi[\"isDecoy2\"] == False)]\n",
    "s2_ppi = pd.read_csv(\"S2_FP_PPI_inter/1perc_ppi_inter_ppi_xiFDR2.2.1.csv\")\n",
    "s2_ppi = s2_ppi[(s2_ppi[\"isDecoy1\"] == False) & (s2_ppi[\"isDecoy2\"] == False)]\n",
    "s3_ppi = pd.read_csv(\"S3_FP_PPI_inter/1perc_ppi_inter_ppi_xiFDR2.2.1.csv\")\n",
    "s3_ppi = s3_ppi[(s3_ppi[\"isDecoy1\"] == False) & (s3_ppi[\"isDecoy2\"] == False)]"
   ]
  },
  {
   "cell_type": "code",
   "execution_count": 18,
   "id": "979873da-d574-4f19-b91e-a73f2b86da62",
   "metadata": {},
   "outputs": [
    {
     "data": {
      "text/plain": [
       "fdrGroup\n",
       "Self       108\n",
       "Between     29\n",
       "Name: count, dtype: int64"
      ]
     },
     "execution_count": 18,
     "metadata": {},
     "output_type": "execute_result"
    }
   ],
   "source": [
    "s1_ppi[\"fdrGroup\"].value_counts()"
   ]
  },
  {
   "cell_type": "code",
   "execution_count": 19,
   "id": "2b9512ac-2489-4012-a9af-4ca2a2c0d2b3",
   "metadata": {},
   "outputs": [
    {
     "data": {
      "text/plain": [
       "fdrGroup\n",
       "Self       149\n",
       "Between     33\n",
       "Name: count, dtype: int64"
      ]
     },
     "execution_count": 19,
     "metadata": {},
     "output_type": "execute_result"
    }
   ],
   "source": [
    "s2_ppi[\"fdrGroup\"].value_counts()"
   ]
  },
  {
   "cell_type": "code",
   "execution_count": 20,
   "id": "5c3ca6a1-9ade-446a-b107-7755d3f9e484",
   "metadata": {},
   "outputs": [
    {
     "data": {
      "text/plain": [
       "fdrGroup\n",
       "Self       115\n",
       "Between     31\n",
       "Name: count, dtype: int64"
      ]
     },
     "execution_count": 20,
     "metadata": {},
     "output_type": "execute_result"
    }
   ],
   "source": [
    "s3_ppi[\"fdrGroup\"].value_counts()"
   ]
  },
  {
   "cell_type": "code",
   "execution_count": 21,
   "id": "4496204f-85d4-43c6-909c-c52e3b964b68",
   "metadata": {},
   "outputs": [],
   "source": [
    "def get_ppi_types(ppis, df):\n",
    "    for i, row in df.iterrows():\n",
    "        current_ppi = \"--\".join(sorted([str(row[\"Protein1\"]).strip(), str(row[\"Protein2\"]).strip()]))\n",
    "        if current_ppi not in ppis:\n",
    "            ppis[current_ppi] = row[\"fdrGroup\"]"
   ]
  },
  {
   "cell_type": "code",
   "execution_count": 22,
   "id": "6ba15c8a-4db3-4132-81c5-24b014f2b425",
   "metadata": {},
   "outputs": [
    {
     "data": {
      "text/plain": [
       "244"
      ]
     },
     "execution_count": 22,
     "metadata": {},
     "output_type": "execute_result"
    }
   ],
   "source": [
    "ppis = dict()\n",
    "get_ppi_types(ppis, s1_ppi)\n",
    "get_ppi_types(ppis, s2_ppi)\n",
    "get_ppi_types(ppis, s3_ppi)\n",
    "len(ppis)"
   ]
  },
  {
   "cell_type": "code",
   "execution_count": 23,
   "id": "67224d57-a21e-4c79-baa1-37cff1ea23a9",
   "metadata": {},
   "outputs": [
    {
     "name": "stdout",
     "output_type": "stream",
     "text": [
      "Nr of intra PPIs: 192\n",
      "Nr of inter PPIs: 52\n"
     ]
    }
   ],
   "source": [
    "nr_intra = 0\n",
    "nr_inter = 0\n",
    "for ppi in ppis:\n",
    "    if \"Self\" in ppis[ppi]:\n",
    "        nr_intra+=1\n",
    "    if \"Between\" in ppis[ppi]:\n",
    "        nr_inter+=1\n",
    "print(f\"Nr of intra PPIs: {nr_intra}\\nNr of inter PPIs: {nr_inter}\")"
   ]
  },
  {
   "cell_type": "markdown",
   "id": "688bbed7-4f4f-42a7-96a6-7caf366539ea",
   "metadata": {},
   "source": [
    "## Export to xiVIEW"
   ]
  },
  {
   "cell_type": "code",
   "execution_count": 24,
   "id": "b20ed9e3-0d84-4bea-84a8-2037389da651",
   "metadata": {},
   "outputs": [],
   "source": [
    "s1_links_ppi_inter = pd.read_csv(\"S1_FP_PPI_inter/1perc_ppi_inter_Links_xiFDR2.2.1.csv\")\n",
    "s2_links_ppi_inter = pd.read_csv(\"S2_FP_PPI_inter/1perc_ppi_inter_Links_xiFDR2.2.1.csv\")\n",
    "s3_links_ppi_inter = pd.read_csv(\"S3_FP_PPI_inter/1perc_ppi_inter_Links_xiFDR2.2.1.csv\")"
   ]
  },
  {
   "cell_type": "code",
   "execution_count": 25,
   "id": "ee9dc866-ff71-435f-97e0-03d33458f65a",
   "metadata": {},
   "outputs": [],
   "source": [
    "data = [s1_links_ppi_inter, s2_links_ppi_inter, s3_links_ppi_inter]\n",
    "inter_links_1perc_ppi_fdr = {\"AbsPos1\": [], \"AbsPos2\": [], \"Protein1\": [], \"Protein2\": []}"
   ]
  },
  {
   "cell_type": "code",
   "execution_count": 26,
   "id": "b44ac889-46fd-47e2-89e7-f25ce77affd2",
   "metadata": {},
   "outputs": [],
   "source": [
    "seen_xl = set()\n",
    "for df in data:\n",
    "    for i, row in df.iterrows():\n",
    "        current_xl = \"--\".join(sorted([str(row[\"Protein1\"]).strip() + \"_\" + str(row[\"fromSite\"]).strip(), str(row[\"Protein2\"]).strip() + \"_\" + str(row[\"ToSite\"]).strip()]))\n",
    "        # skip if xl not unique\n",
    "        if current_xl in seen_xl:\n",
    "            continue\n",
    "        # skip decoys\n",
    "        if row[\"Decoy1\"] == True or row[\"Decoy2\"] == True:\n",
    "            continue\n",
    "        # skip if PPIFDR greater 1% (none should be skipped)\n",
    "        if row[\"PPIFDR\"] > 0.01:\n",
    "            continue\n",
    "        # skip if xl is intra\n",
    "        if \"Self\" in row[\"fdrGroup\"]:\n",
    "            continue\n",
    "        seen_xl.add(current_xl)\n",
    "        inter_links_1perc_ppi_fdr[\"AbsPos1\"].append(row[\"fromSite\"])\n",
    "        inter_links_1perc_ppi_fdr[\"AbsPos2\"].append(row[\"ToSite\"])\n",
    "        inter_links_1perc_ppi_fdr[\"Protein1\"].append(row[\"Protein1\"])\n",
    "        inter_links_1perc_ppi_fdr[\"Protein2\"].append(row[\"Protein2\"])"
   ]
  },
  {
   "cell_type": "code",
   "execution_count": 27,
   "id": "f89d1054-0a2c-4751-81e2-69e551a0bff6",
   "metadata": {},
   "outputs": [],
   "source": [
    "inter_links_1perc_ppi_fdr_df = pd.DataFrame(inter_links_1perc_ppi_fdr)"
   ]
  },
  {
   "cell_type": "code",
   "execution_count": 28,
   "id": "99d58383-d3c5-40fc-b67d-d746911a2ec2",
   "metadata": {},
   "outputs": [
    {
     "data": {
      "text/html": [
       "<div>\n",
       "<style scoped>\n",
       "    .dataframe tbody tr th:only-of-type {\n",
       "        vertical-align: middle;\n",
       "    }\n",
       "\n",
       "    .dataframe tbody tr th {\n",
       "        vertical-align: top;\n",
       "    }\n",
       "\n",
       "    .dataframe thead th {\n",
       "        text-align: right;\n",
       "    }\n",
       "</style>\n",
       "<table border=\"1\" class=\"dataframe\">\n",
       "  <thead>\n",
       "    <tr style=\"text-align: right;\">\n",
       "      <th></th>\n",
       "      <th>AbsPos1</th>\n",
       "      <th>AbsPos2</th>\n",
       "      <th>Protein1</th>\n",
       "      <th>Protein2</th>\n",
       "    </tr>\n",
       "  </thead>\n",
       "  <tbody>\n",
       "    <tr>\n",
       "      <th>0</th>\n",
       "      <td>62</td>\n",
       "      <td>188</td>\n",
       "      <td>P52821</td>\n",
       "      <td>P49041</td>\n",
       "    </tr>\n",
       "    <tr>\n",
       "      <th>1</th>\n",
       "      <td>122</td>\n",
       "      <td>29</td>\n",
       "      <td>Q18231</td>\n",
       "      <td>Q20228</td>\n",
       "    </tr>\n",
       "    <tr>\n",
       "      <th>2</th>\n",
       "      <td>194</td>\n",
       "      <td>146</td>\n",
       "      <td>O45012</td>\n",
       "      <td>Q21276</td>\n",
       "    </tr>\n",
       "    <tr>\n",
       "      <th>3</th>\n",
       "      <td>82</td>\n",
       "      <td>25</td>\n",
       "      <td>P91128</td>\n",
       "      <td>P49181</td>\n",
       "    </tr>\n",
       "    <tr>\n",
       "      <th>4</th>\n",
       "      <td>32;32;31;32</td>\n",
       "      <td>92</td>\n",
       "      <td>Q27484;Q27876;P04255;Q27894</td>\n",
       "      <td>P62784</td>\n",
       "    </tr>\n",
       "    <tr>\n",
       "      <th>...</th>\n",
       "      <td>...</td>\n",
       "      <td>...</td>\n",
       "      <td>...</td>\n",
       "      <td>...</td>\n",
       "    </tr>\n",
       "    <tr>\n",
       "      <th>71</th>\n",
       "      <td>87;149</td>\n",
       "      <td>116</td>\n",
       "      <td>I2HAF9;Q9NEN6</td>\n",
       "      <td>O01868</td>\n",
       "    </tr>\n",
       "    <tr>\n",
       "      <th>72</th>\n",
       "      <td>182</td>\n",
       "      <td>227</td>\n",
       "      <td>Q27389</td>\n",
       "      <td>O17536</td>\n",
       "    </tr>\n",
       "    <tr>\n",
       "      <th>73</th>\n",
       "      <td>118;118;117;118</td>\n",
       "      <td>11;11;11;11</td>\n",
       "      <td>Q27484;Q27876;P04255;Q27894</td>\n",
       "      <td>Q27485;J7S164;J7SA65;P09588</td>\n",
       "    </tr>\n",
       "    <tr>\n",
       "      <th>74</th>\n",
       "      <td>32</td>\n",
       "      <td>307</td>\n",
       "      <td>O01802</td>\n",
       "      <td>O02056</td>\n",
       "    </tr>\n",
       "    <tr>\n",
       "      <th>75</th>\n",
       "      <td>114;114;113;114</td>\n",
       "      <td>11;11;11;11</td>\n",
       "      <td>Q27484;Q27876;P04255;Q27894</td>\n",
       "      <td>Q27485;J7S164;J7SA65;P09588</td>\n",
       "    </tr>\n",
       "  </tbody>\n",
       "</table>\n",
       "<p>76 rows × 4 columns</p>\n",
       "</div>"
      ],
      "text/plain": [
       "            AbsPos1      AbsPos2                     Protein1  \\\n",
       "0                62          188                       P52821   \n",
       "1               122           29                       Q18231   \n",
       "2               194          146                       O45012   \n",
       "3                82           25                       P91128   \n",
       "4       32;32;31;32           92  Q27484;Q27876;P04255;Q27894   \n",
       "..              ...          ...                          ...   \n",
       "71           87;149          116                I2HAF9;Q9NEN6   \n",
       "72              182          227                       Q27389   \n",
       "73  118;118;117;118  11;11;11;11  Q27484;Q27876;P04255;Q27894   \n",
       "74               32          307                       O01802   \n",
       "75  114;114;113;114  11;11;11;11  Q27484;Q27876;P04255;Q27894   \n",
       "\n",
       "                       Protein2  \n",
       "0                        P49041  \n",
       "1                        Q20228  \n",
       "2                        Q21276  \n",
       "3                        P49181  \n",
       "4                        P62784  \n",
       "..                          ...  \n",
       "71                       O01868  \n",
       "72                       O17536  \n",
       "73  Q27485;J7S164;J7SA65;P09588  \n",
       "74                       O02056  \n",
       "75  Q27485;J7S164;J7SA65;P09588  \n",
       "\n",
       "[76 rows x 4 columns]"
      ]
     },
     "execution_count": 28,
     "metadata": {},
     "output_type": "execute_result"
    }
   ],
   "source": [
    "inter_links_1perc_ppi_fdr_df"
   ]
  },
  {
   "cell_type": "code",
   "execution_count": 29,
   "id": "367870e0-29cc-4246-b678-986e6c8fb8e0",
   "metadata": {},
   "outputs": [],
   "source": [
    "# inter_links_1perc_ppi_fdr_df.to_csv(\"inter_links_1perc_ppi_fdr_xiview.csv\", index = False)"
   ]
  },
  {
   "cell_type": "code",
   "execution_count": null,
   "id": "8479b41f-f663-428f-9dad-445828d3778f",
   "metadata": {},
   "outputs": [],
   "source": []
  }
 ],
 "metadata": {
  "kernelspec": {
   "display_name": "Python 3 (ipykernel)",
   "language": "python",
   "name": "python3"
  },
  "language_info": {
   "codemirror_mode": {
    "name": "ipython",
    "version": 3
   },
   "file_extension": ".py",
   "mimetype": "text/x-python",
   "name": "python",
   "nbconvert_exporter": "python",
   "pygments_lexer": "ipython3",
   "version": "3.11.9"
  }
 },
 "nbformat": 4,
 "nbformat_minor": 5
}
